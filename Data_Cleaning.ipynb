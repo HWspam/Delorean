{
 "cells": [
  {
   "cell_type": "code",
   "execution_count": 49,
   "metadata": {},
   "outputs": [
    {
     "name": "stderr",
     "output_type": "stream",
     "text": [
      "C:\\Users\\brenna2t\\AppData\\Local\\Continuum\\anaconda3\\lib\\site-packages\\IPython\\core\\interactiveshell.py:2903: DtypeWarning: Columns (76,83) have mixed types. Specify dtype option on import or set low_memory=False.\n",
      "  if self.run_code(code, result):\n",
      "C:\\Users\\brenna2t\\AppData\\Local\\Continuum\\anaconda3\\lib\\site-packages\\IPython\\core\\interactiveshell.py:2903: DtypeWarning: Columns (47) have mixed types. Specify dtype option on import or set low_memory=False.\n",
      "  if self.run_code(code, result):\n",
      "C:\\Users\\brenna2t\\AppData\\Local\\Continuum\\anaconda3\\lib\\site-packages\\IPython\\core\\interactiveshell.py:2903: DtypeWarning: Columns (76) have mixed types. Specify dtype option on import or set low_memory=False.\n",
      "  if self.run_code(code, result):\n",
      "C:\\Users\\brenna2t\\AppData\\Local\\Continuum\\anaconda3\\lib\\site-packages\\IPython\\core\\interactiveshell.py:2903: DtypeWarning: Columns (47,76,83) have mixed types. Specify dtype option on import or set low_memory=False.\n",
      "  if self.run_code(code, result):\n",
      "C:\\Users\\brenna2t\\AppData\\Local\\Continuum\\anaconda3\\lib\\site-packages\\IPython\\core\\interactiveshell.py:2903: DtypeWarning: Columns (68,75) have mixed types. Specify dtype option on import or set low_memory=False.\n",
      "  if self.run_code(code, result):\n"
     ]
    },
    {
     "name": "stdout",
     "output_type": "stream",
     "text": [
      "YEAR                       275231\n",
      "QUARTER                    275231\n",
      "MONTH                      275231\n",
      "DAY_OF_MONTH               275231\n",
      "DAY_OF_WEEK                275231\n",
      "FL_DATE                    275231\n",
      "OP_UNIQUE_CARRIER          275231\n",
      "OP_CARRIER_AIRLINE_ID      275231\n",
      "OP_CARRIER                 275231\n",
      "TAIL_NUM                   275117\n",
      "OP_CARRIER_FL_NUM          275231\n",
      "ORIGIN_AIRPORT_ID          275231\n",
      "ORIGIN_AIRPORT_SEQ_ID      275231\n",
      "ORIGIN_CITY_MARKET_ID      275231\n",
      "ORIGIN                     275231\n",
      "ORIGIN_CITY_NAME           275231\n",
      "ORIGIN_STATE_ABR           275231\n",
      "ORIGIN_STATE_FIPS          275231\n",
      "ORIGIN_STATE_NM            275231\n",
      "ORIGIN_WAC                 275231\n",
      "DEST_AIRPORT_ID            275231\n",
      "DEST_AIRPORT_SEQ_ID        275231\n",
      "DEST_CITY_MARKET_ID        275231\n",
      "DEST                       275231\n",
      "DEST_CITY_NAME             275231\n",
      "DEST_STATE_ABR             275231\n",
      "DEST_STATE_FIPS            275231\n",
      "DEST_STATE_NM              275231\n",
      "DEST_WAC                   275231\n",
      "CRS_DEP_TIME               275231\n",
      "                            ...  \n",
      "DISTANCE_GROUP             275231\n",
      "CARRIER_DELAY               37450\n",
      "WEATHER_DELAY               37450\n",
      "NAS_DELAY                   37450\n",
      "SECURITY_DELAY              37450\n",
      "LATE_AIRCRAFT_DELAY         37450\n",
      "FIRST_DEP_TIME               1740\n",
      "TOTAL_ADD_GTIME              1740\n",
      "LONGEST_ADD_GTIME            1740\n",
      "DIV_AIRPORT_LANDINGS       275231\n",
      "DIV_REACHED_DEST              583\n",
      "DIV_ACTUAL_ELAPSED_TIME       523\n",
      "DIV_ARR_DELAY                 523\n",
      "DIV_DISTANCE                  583\n",
      "DIV1_AIRPORT                  631\n",
      "DIV1_AIRPORT_ID               631\n",
      "DIV1_AIRPORT_SEQ_ID           631\n",
      "DIV1_WHEELS_ON                631\n",
      "DIV1_TOTAL_GTIME              631\n",
      "DIV1_LONGEST_GTIME            631\n",
      "DIV1_WHEELS_OFF               526\n",
      "DIV1_TAIL_NUM                 526\n",
      "DIV2_AIRPORT                    7\n",
      "DIV2_AIRPORT_ID                 7\n",
      "DIV2_AIRPORT_SEQ_ID             7\n",
      "DIV2_WHEELS_ON                  7\n",
      "DIV2_TOTAL_GTIME                7\n",
      "DIV2_LONGEST_GTIME              7\n",
      "DIV2_WHEELS_OFF                 4\n",
      "DIV2_TAIL_NUM                   4\n",
      "Length: 84, dtype: int64\n"
     ]
    }
   ],
   "source": [
    "import glob\n",
    "import pandas as pd\n",
    "\n",
    "df = pd.concat([pd.read_csv(f) for f in glob.glob('1028836041*.csv')], ignore_index = True)\n",
    "\n",
    "df=df.dropna(how='all', axis='columns')\n",
    "\n",
    "print(df.count())"
   ]
  },
  {
   "cell_type": "code",
   "execution_count": null,
   "metadata": {},
   "outputs": [],
   "source": []
  },
  {
   "cell_type": "code",
   "execution_count": null,
   "metadata": {},
   "outputs": [],
   "source": []
  }
 ],
 "metadata": {
  "kernelspec": {
   "display_name": "Python [default]",
   "language": "python",
   "name": "python3"
  },
  "language_info": {
   "codemirror_mode": {
    "name": "ipython",
    "version": 3
   },
   "file_extension": ".py",
   "mimetype": "text/x-python",
   "name": "python",
   "nbconvert_exporter": "python",
   "pygments_lexer": "ipython3",
   "version": "3.6.5"
  }
 },
 "nbformat": 4,
 "nbformat_minor": 2
}
