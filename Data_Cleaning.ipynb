{
 "cells": [
  {
   "cell_type": "code",
   "execution_count": 18,
   "metadata": {},
   "outputs": [
    {
     "data": {
      "text/html": [
       "<div>\n",
       "<style scoped>\n",
       "    .dataframe tbody tr th:only-of-type {\n",
       "        vertical-align: middle;\n",
       "    }\n",
       "\n",
       "    .dataframe tbody tr th {\n",
       "        vertical-align: top;\n",
       "    }\n",
       "\n",
       "    .dataframe thead th {\n",
       "        text-align: right;\n",
       "    }\n",
       "</style>\n",
       "<table border=\"1\" class=\"dataframe\">\n",
       "  <thead>\n",
       "    <tr style=\"text-align: right;\">\n",
       "      <th></th>\n",
       "      <th>ORIGIN_AIRPORT</th>\n",
       "      <th>DEST_AIRPORT</th>\n",
       "    </tr>\n",
       "  </thead>\n",
       "  <tbody>\n",
       "    <tr>\n",
       "      <th>0</th>\n",
       "      <td>Minneapolis-Saint Paul International Airport</td>\n",
       "      <td>Denver International Airport</td>\n",
       "    </tr>\n",
       "    <tr>\n",
       "      <th>1</th>\n",
       "      <td>Minneapolis-Saint Paul International Airport</td>\n",
       "      <td>Denver International Airport</td>\n",
       "    </tr>\n",
       "    <tr>\n",
       "      <th>2</th>\n",
       "      <td>Minneapolis-Saint Paul International Airport</td>\n",
       "      <td>Denver International Airport</td>\n",
       "    </tr>\n",
       "    <tr>\n",
       "      <th>3</th>\n",
       "      <td>Minneapolis-Saint Paul International Airport</td>\n",
       "      <td>Denver International Airport</td>\n",
       "    </tr>\n",
       "    <tr>\n",
       "      <th>4</th>\n",
       "      <td>Minneapolis-Saint Paul International Airport</td>\n",
       "      <td>Denver International Airport</td>\n",
       "    </tr>\n",
       "  </tbody>\n",
       "</table>\n",
       "</div>"
      ],
      "text/plain": [
       "                                 ORIGIN_AIRPORT                  DEST_AIRPORT\n",
       "0  Minneapolis-Saint Paul International Airport  Denver International Airport\n",
       "1  Minneapolis-Saint Paul International Airport  Denver International Airport\n",
       "2  Minneapolis-Saint Paul International Airport  Denver International Airport\n",
       "3  Minneapolis-Saint Paul International Airport  Denver International Airport\n",
       "4  Minneapolis-Saint Paul International Airport  Denver International Airport"
      ]
     },
     "execution_count": 18,
     "metadata": {},
     "output_type": "execute_result"
    }
   ],
   "source": [
    "import glob\n",
    "import pandas as pd\n",
    "\n",
    "#Concatinate Monthly MSP Flights\n",
    "df = pd.concat([pd.read_csv(f, low_memory=False) for f in glob.glob('Resources/1028836041*.csv')], ignore_index = True)\n",
    "\n",
    "#Drop Empty Columns\n",
    "df=df.dropna(how='all', axis='columns')\n",
    "\n",
    "#Airlines/Airport Codes\n",
    "airlines = pd.read_csv(\"Resources/airlines.csv\")\n",
    "airports = pd.read_csv(\"Resources/airports.csv\")\n",
    "\n",
    "#Merging CSV files for Airlines and Airports\n",
    "combined_df = pd.merge(df, airlines, how='outer', on='OP_UNIQUE_CARRIER')\n",
    "combined_df = pd.merge(combined_df, airports[['AIRPORT','IATA_CODE']], how='outer', left_on = 'ORIGIN', right_on = 'IATA_CODE',suffixes=(\" \",\"_Origin\"))\n",
    "combined_df=combined_df.rename(columns={\"AIRPORT\":\"ORIGIN_AIRPORT\"})\n",
    "combined_df = pd.merge(combined_df, airports[['AIRPORT','IATA_CODE']], how='outer', left_on = 'DEST', right_on = 'IATA_CODE',suffixes=(\" \",\"_Origin\"))\n",
    "combined_df=combined_df.rename(columns={\"AIRPORT\":\"DEST_AIRPORT\"})\n",
    "\n",
    "#Cleanup Unnecessary Columns\n",
    "filtered_df=combined_df[[\"ORIGIN_AIRPORT\",\"DEST_AIRPORT\"]]\n",
    "filtered_df.head()\n",
    "#filtered_df.to_csv('Resources/filtered_df.csv', index=False)"
   ]
  },
  {
   "cell_type": "code",
   "execution_count": null,
   "metadata": {},
   "outputs": [],
   "source": []
  },
  {
   "cell_type": "code",
   "execution_count": null,
   "metadata": {},
   "outputs": [],
   "source": []
  }
 ],
 "metadata": {
  "kernelspec": {
   "display_name": "Python [default]",
   "language": "python",
   "name": "python3"
  },
  "language_info": {
   "codemirror_mode": {
    "name": "ipython",
    "version": 3
   },
   "file_extension": ".py",
   "mimetype": "text/x-python",
   "name": "python",
   "nbconvert_exporter": "python",
   "pygments_lexer": "ipython3",
   "version": "3.6.5"
  }
 },
 "nbformat": 4,
 "nbformat_minor": 2
}
