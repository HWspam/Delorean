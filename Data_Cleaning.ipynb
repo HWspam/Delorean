{
 "cells": [
  {
   "cell_type": "code",
   "execution_count": 6,
   "metadata": {},
   "outputs": [
    {
     "data": {
      "text/plain": [
       "ORIGIN_AIRPORT             275231\n",
       "DEST_AIRPORT               275231\n",
       "YEAR                       275231\n",
       "QUARTER                    275231\n",
       "MONTH                      275231\n",
       "DAY_OF_MONTH               275231\n",
       "DAY_OF_WEEK                275231\n",
       "FL_DATE                    275231\n",
       "OP_UNIQUE_CARRIER          275231\n",
       "OP_CARRIER_FL_NUM          275231\n",
       "ORIGIN                     275231\n",
       "DEST                       275231\n",
       "CRS_DEP_TIME               275231\n",
       "DEP_TIME                   273594\n",
       "DEP_DELAY                  273593\n",
       "DEP_DEL15                  273593\n",
       "CRS_ARR_TIME               275231\n",
       "ARR_TIME                   273429\n",
       "ARR_DELAY                  272906\n",
       "ARR_DELAY_NEW              272906\n",
       "ARR_DEL15                  272906\n",
       "CANCELLED                  275231\n",
       "CANCELLATION_CODE            1743\n",
       "DIVERTED                   275231\n",
       "CRS_ELAPSED_TIME           275231\n",
       "ACTUAL_ELAPSED_TIME        272906\n",
       "AIR_TIME                   272906\n",
       "DISTANCE                   275231\n",
       "CARRIER_DELAY               37450\n",
       "WEATHER_DELAY               37450\n",
       "NAS_DELAY                   37450\n",
       "SECURITY_DELAY              37450\n",
       "LATE_AIRCRAFT_DELAY         37450\n",
       "FIRST_DEP_TIME               1740\n",
       "TOTAL_ADD_GTIME              1740\n",
       "LONGEST_ADD_GTIME            1740\n",
       "DIV_AIRPORT_LANDINGS       275231\n",
       "DIV_REACHED_DEST              583\n",
       "DIV_ACTUAL_ELAPSED_TIME       523\n",
       "DIV_ARR_DELAY                 523\n",
       "DIV_DISTANCE                  583\n",
       "DIV1_AIRPORT                  631\n",
       "DIV1_AIRPORT_ID               631\n",
       "DIV1_TOTAL_GTIME              631\n",
       "DIV1_LONGEST_GTIME            631\n",
       "DIV2_AIRPORT                    7\n",
       "DIV2_AIRPORT_ID                 7\n",
       "DIV2_TOTAL_GTIME                7\n",
       "DIV2_LONGEST_GTIME              7\n",
       "dtype: int64"
      ]
     },
     "execution_count": 6,
     "metadata": {},
     "output_type": "execute_result"
    }
   ],
   "source": [
    "import glob\n",
    "import pandas as pd\n",
    "\n",
    "#Concatinate Monthly MSP Flights\n",
    "df = pd.concat([pd.read_csv(f, low_memory=False) for f in glob.glob('Resources/1028836041*.csv')], ignore_index = True)\n",
    "\n",
    "#Drop Empty Columns\n",
    "df=df.dropna(how='all', axis='columns')\n",
    "\n",
    "#Airlines/Airport Codes\n",
    "airlines = pd.read_csv(\"Resources/airlines.csv\")\n",
    "airports = pd.read_csv(\"Resources/airports.csv\")\n",
    "\n",
    "#Merging CSV files for Airlines and Airports\n",
    "combined_df = pd.merge(df, airlines, how='left', on='OP_UNIQUE_CARRIER')\n",
    "combined_df = pd.merge(combined_df, airports[['AIRPORT','IATA_CODE']], how='left', left_on = 'ORIGIN', right_on = 'IATA_CODE',suffixes=(\" \",\"_Origin\"))\n",
    "combined_df=combined_df.rename(columns={\"AIRPORT\":\"ORIGIN_AIRPORT\"})\n",
    "combined_df = pd.merge(combined_df, airports[['AIRPORT','IATA_CODE']], how='left', left_on = 'DEST', right_on = 'IATA_CODE',suffixes=(\" \",\"_Origin\"))\n",
    "combined_df=combined_df.rename(columns={\"AIRPORT\":\"DEST_AIRPORT\"})\n",
    "\n",
    "#Cleanup Unnecessary Columns\n",
    "cleaned_df=combined_df[['ORIGIN_AIRPORT','DEST_AIRPORT','YEAR','QUARTER','MONTH','DAY_OF_MONTH',\n",
    "                         'DAY_OF_WEEK','FL_DATE','OP_UNIQUE_CARRIER','OP_CARRIER_FL_NUM','ORIGIN',\n",
    "                         'DEST','CRS_DEP_TIME','DEP_TIME','DEP_DELAY','DEP_DEL15','CRS_ARR_TIME','ARR_TIME',\n",
    "                         'ARR_DELAY','ARR_DELAY_NEW','ARR_DEL15','CANCELLED','CANCELLATION_CODE','DIVERTED',\n",
    "                         'CRS_ELAPSED_TIME','ACTUAL_ELAPSED_TIME','AIR_TIME','DISTANCE','CARRIER_DELAY',\n",
    "                         'WEATHER_DELAY','NAS_DELAY','SECURITY_DELAY','LATE_AIRCRAFT_DELAY',\n",
    "                         'FIRST_DEP_TIME','TOTAL_ADD_GTIME','LONGEST_ADD_GTIME','DIV_AIRPORT_LANDINGS',\n",
    "                         'DIV_REACHED_DEST','DIV_ACTUAL_ELAPSED_TIME','DIV_ARR_DELAY','DIV_DISTANCE',\n",
    "                         'DIV1_AIRPORT','DIV1_AIRPORT_ID','DIV1_TOTAL_GTIME','DIV1_LONGEST_GTIME','DIV2_AIRPORT',\n",
    "                         'DIV2_AIRPORT_ID','DIV2_TOTAL_GTIME','DIV2_LONGEST_GTIME']]\n",
    "\n",
    "cleaned_df.to_csv('Resources/cleaned_df.csv', index=False)\n",
    "cleaned_df.count()"
   ]
  },
  {
   "cell_type": "code",
   "execution_count": null,
   "metadata": {},
   "outputs": [],
   "source": []
  },
  {
   "cell_type": "code",
   "execution_count": null,
   "metadata": {},
   "outputs": [],
   "source": []
  }
 ],
 "metadata": {
  "kernelspec": {
   "display_name": "Python [default]",
   "language": "python",
   "name": "python3"
  },
  "language_info": {
   "codemirror_mode": {
    "name": "ipython",
    "version": 3
   },
   "file_extension": ".py",
   "mimetype": "text/x-python",
   "name": "python",
   "nbconvert_exporter": "python",
   "pygments_lexer": "ipython3",
   "version": "3.6.5"
  }
 },
 "nbformat": 4,
 "nbformat_minor": 2
}
